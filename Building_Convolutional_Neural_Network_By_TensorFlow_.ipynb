{
  "nbformat": 4,
  "nbformat_minor": 0,
  "metadata": {
    "colab": {
      "name": "Building Convolutional Neural Network By TensorFlow .ipynb",
      "provenance": [],
      "collapsed_sections": [],
      "toc_visible": true,
      "authorship_tag": "ABX9TyNqvHISqlSi3OuXtPPYKWj8",
      "include_colab_link": true
    },
    "kernelspec": {
      "name": "python3",
      "display_name": "Python 3"
    }
  },
  "cells": [
    {
      "cell_type": "markdown",
      "metadata": {
        "id": "view-in-github",
        "colab_type": "text"
      },
      "source": [
        "<a href=\"https://colab.research.google.com/github/Cph4v/Machine_learning_projects/blob/main/Building_Convolutional_Neural_Network_By_TensorFlow_.ipynb\" target=\"_parent\"><img src=\"https://colab.research.google.com/assets/colab-badge.svg\" alt=\"Open In Colab\"/></a>"
      ]
    },
    {
      "cell_type": "code",
      "metadata": {
        "id": "REC3-Mwi_YV-"
      },
      "source": [
        ""
      ],
      "execution_count": 150,
      "outputs": []
    },
    {
      "cell_type": "markdown",
      "metadata": {
        "id": "JkNq2sVK_ZCC"
      },
      "source": [
        "## import necessary libraries"
      ]
    },
    {
      "cell_type": "code",
      "metadata": {
        "colab": {
          "base_uri": "https://localhost:8080/"
        },
        "id": "HjCru6Vi0dDp",
        "outputId": "c490cfcb-1648-4d32-c1a1-b9fc6587b6f7"
      },
      "source": [
        "import tensorflow as tf\r\n",
        "\r\n",
        "print(tf.__version__)"
      ],
      "execution_count": 151,
      "outputs": [
        {
          "output_type": "stream",
          "text": [
            "2.4.1\n"
          ],
          "name": "stdout"
        }
      ]
    },
    {
      "cell_type": "code",
      "metadata": {
        "id": "kRLX2u_W_ZKV"
      },
      "source": [
        "import math\r\n",
        "import numpy as np\r\n",
        "import h5py\r\n",
        "import matplotlib.pyplot as plt\r\n",
        "import scipy\r\n",
        "from PIL import Image\r\n",
        "from scipy import ndimage\r\n",
        "import tensorflow as tf\r\n",
        "from tensorflow.python.framework import ops\r\n",
        "from cnn_utils import *\r\n",
        "\r\n",
        "%matplotlib inline\r\n",
        "np.random.seed(1)"
      ],
      "execution_count": 152,
      "outputs": []
    },
    {
      "cell_type": "code",
      "metadata": {
        "id": "-qfpj-Br0d69"
      },
      "source": [
        "# import tensorflow.compat.v1 as tf\r\n",
        "# tf.disable_v2_behavior() \r\n"
      ],
      "execution_count": 153,
      "outputs": []
    },
    {
      "cell_type": "markdown",
      "metadata": {
        "id": "fdxphGzh_yEH"
      },
      "source": [
        "## import datasets"
      ]
    },
    {
      "cell_type": "code",
      "metadata": {
        "id": "nSYJudbB_wxo"
      },
      "source": [
        "X_train_orig, Y_train_orig, X_test_orig, Y_test_orig, classes = load_dataset()"
      ],
      "execution_count": 154,
      "outputs": []
    },
    {
      "cell_type": "code",
      "metadata": {
        "colab": {
          "base_uri": "https://localhost:8080/",
          "height": 35
        },
        "id": "Wngq0xc2FKiK",
        "outputId": "b37d5dce-d44f-41a2-f09c-f8e16cf6bfb0"
      },
      "source": [
        "str(np.squeeze(Y_train_orig[:,7]))"
      ],
      "execution_count": 155,
      "outputs": [
        {
          "output_type": "execute_result",
          "data": {
            "application/vnd.google.colaboratory.intrinsic+json": {
              "type": "string"
            },
            "text/plain": [
              "'1'"
            ]
          },
          "metadata": {
            "tags": []
          },
          "execution_count": 155
        }
      ]
    },
    {
      "cell_type": "code",
      "metadata": {
        "colab": {
          "base_uri": "https://localhost:8080/",
          "height": 285
        },
        "id": "GSxg6xay_7kg",
        "outputId": "da66a2b5-8013-4f5c-812a-a9229e09c0b9"
      },
      "source": [
        "plt.imshow(X_train_orig[7])\r\n",
        "print('y=',str(np.squeeze(Y_train_orig[:,7])))"
      ],
      "execution_count": 156,
      "outputs": [
        {
          "output_type": "stream",
          "text": [
            "y= 1\n"
          ],
          "name": "stdout"
        },
        {
          "output_type": "display_data",
          "data": {
            "image/png": "[encoded data removed]",
            "text/plain": [
              "<Figure size 432x288 with 1 Axes>"
            ]
          },
          "metadata": {
            "tags": [],
            "needs_background": "light"
          }
        }
      ]
    },
    {
      "cell_type": "code",
      "metadata": {
        "colab": {
          "base_uri": "https://localhost:8080/"
        },
        "id": "a3mqExlsEi0T",
        "outputId": "c8af3b75-8391-426e-d2e3-8f82120a8a53"
      },
      "source": [
        "X_train = X_train_orig/255.\r\n",
        "X_test = X_test_orig/255.\r\n",
        "Y_train = convert_to_one_hot(Y_train_orig, 6).T\r\n",
        "Y_test = convert_to_one_hot(Y_test_orig, 6).T\r\n",
        "print (\"number of training examples = \" + str(X_train.shape[0]))\r\n",
        "print (\"number of test examples = \" + str(X_test.shape[0]))\r\n",
        "print (\"X_train shape: \" + str(X_train.shape))\r\n",
        "print (\"Y_train shape: \" + str(Y_train.shape))\r\n",
        "print (\"X_test shape: \" + str(X_test.shape))\r\n",
        "print (\"Y_test shape: \" + str(Y_test.shape))\r\n",
        "conv_layers = {}"
      ],
      "execution_count": 157,
      "outputs": [
        {
          "output_type": "stream",
          "text": [
            "number of training examples = 1080\n",
            "number of test examples = 120\n",
            "X_train shape: (1080, 64, 64, 3)\n",
            "Y_train shape: (1080, 6)\n",
            "X_test shape: (120, 64, 64, 3)\n",
            "Y_test shape: (120, 6)\n"
          ],
          "name": "stdout"
        }
      ]
    },
    {
      "cell_type": "markdown",
      "metadata": {
        "id": "SWRLGPBsMq-m"
      },
      "source": [
        "### 1.1 - Create placeholders"
      ]
    },
    {
      "cell_type": "code",
      "metadata": {
        "id": "mdrNX2k2KZBM"
      },
      "source": [
        "def create_placeholders(n_H0, n_W0, n_C0, n_y):\r\n",
        "    \"\"\"\r\n",
        "    Creates the placeholders for the tensorflow session.\r\n",
        "    \r\n",
        "    Arguments:\r\n",
        "    n_H0 -- scalar, height of an input image\r\n",
        "    n_W0 -- scalar, width of an input image\r\n",
        "    n_C0 -- scalar, number of channels of the input\r\n",
        "    n_y -- scalar, number of classes\r\n",
        "        \r\n",
        "    Returns:\r\n",
        "    X -- placeholder for the data input, of shape [None, n_H0, n_W0, n_C0] and dtype \"float\"\r\n",
        "    Y -- placeholder for the input labels, of shape [None, n_y] and dtype \"float\"\r\n",
        "    \"\"\"\r\n",
        "    X = tf.compat.v1.placeholder(tf.float32,shape=(None, n_H0, n_W0, n_C0))\r\n",
        "    Y = tf.compat.v1.placeholder(tf.float32,shape=(None, n_y))\r\n",
        "\r\n",
        "    \r\n",
        "    return X, Y"
      ],
      "execution_count": 158,
      "outputs": []
    },
    {
      "cell_type": "markdown",
      "metadata": {
        "id": "xuxLvWh_M3ki"
      },
      "source": [
        "### 1.2 - Initialize parameters"
      ]
    },
    {
      "cell_type": "code",
      "metadata": {
        "id": "5F4HQdiqM3wL"
      },
      "source": [
        "def initialize_parameters():\r\n",
        "    \"\"\"\r\n",
        "    Initializes weight parameters to build a neural network with tensorflow. The shapes are:\r\n",
        "                        W1 : [4, 4, 3, 8]\r\n",
        "                        W2 : [2, 2, 8, 16]\r\n",
        "    Note that we will hard code the shape values in the function to make the grading simpler.\r\n",
        "    Normally, functions should take values as inputs rather than hard coding.\r\n",
        "    Returns:\r\n",
        "    parameters -- a dictionary of tensors containing W1, W2\r\n",
        "    \"\"\"\r\n",
        "    \r\n",
        "    # tf.set_random_seed(1)                              \r\n",
        "        \r\n",
        "    W1 = tf.compat.v1.get_variable(\"W1\",[4,4,3,8],initializer=tf.keras.initializers.GlorotNormal(seed = 0))\r\n",
        "    W2 =  tf.compat.v1.get_variable(\"W2\",[2,2,8,16],initializer=tf.keras.initializers.GlorotNormal(seed = 0))\r\n",
        "\r\n",
        "    parameters = {\"W1\": W1,\r\n",
        "                  \"W2\": W2}\r\n",
        "    \r\n",
        "    return parameters"
      ],
      "execution_count": 159,
      "outputs": []
    },
    {
      "cell_type": "markdown",
      "metadata": {
        "id": "nIpkloVlevFM"
      },
      "source": [
        "### 1.3 - Forward propagation"
      ]
    },
    {
      "cell_type": "code",
      "metadata": {
        "id": "T96xj7qEUGBX"
      },
      "source": [
        "def forward_propagation(X, parameters):\r\n",
        "    \"\"\"\r\n",
        "    Implements the forward propagation for the model:\r\n",
        "    CONV2D -> RELU -> MAXPOOL -> CONV2D -> RELU -> MAXPOOL -> FLATTEN -> FULLYCONNECTED\r\n",
        "    \r\n",
        "    Note that for simplicity and grading purposes, we'll hard-code some values\r\n",
        "    such as the stride and kernel (filter) sizes. \r\n",
        "    Normally, functions should take these values as function parameters.\r\n",
        "    \r\n",
        "    Arguments:\r\n",
        "    X -- input dataset placeholder, of shape (input size, number of examples)\r\n",
        "    parameters -- python dictionary containing your parameters \"W1\", \"W2\"\r\n",
        "                  the shapes are given in initialize_parameters\r\n",
        "\r\n",
        "    Returns:\r\n",
        "    Z3 -- the output of the last LINEAR unit\r\n",
        "    \"\"\"\r\n",
        "    \r\n",
        "    # Retrieve the parameters from the dictionary \"parameters\" \r\n",
        "    W1 = parameters['W1']\r\n",
        "    W2 = parameters['W2']\r\n",
        "    \r\n",
        "    # CONV2D: stride of 1, padding 'SAME'\r\n",
        "    Z1 = tf.nn.conv2d(X,W1, strides = [1,1,1,1], padding = 'SAME')\r\n",
        "    # RELU\r\n",
        "    A1 = tf.nn.relu(Z1)\r\n",
        "    # MAXPOOL: window 8x8, stride 8, padding 'SAME'\r\n",
        "    P1 = tf.nn.max_pool(A1, ksize = [1,8,8,1], strides = [1,8,8,1], padding = 'SAME')\r\n",
        "    # CONV2D: filters W2, stride 1, padding 'SAME'\r\n",
        "    Z2 = tf.nn.conv2d(P1,W2, strides = [1,1,1,1], padding = 'SAME')\r\n",
        "    # RELU\r\n",
        "    A2 = tf.nn.relu(Z2)\r\n",
        "    # MAXPOOL: window 4x4, stride 4, padding 'SAME'\r\n",
        "    P2 = tf.nn.max_pool(A2, ksize = [1,4,4,1], strides = [1,4,4,1], padding = 'SAME')\r\n",
        "    # FLATTEN\r\n",
        "    F = tf.keras.layers.Flatten()(P2)\r\n",
        "    # FULLY-CONNECTED without non-linear activation function (not not call softmax).\r\n",
        "    # 6 neurons in output layer. Hint: one of the arguments should be \"activation_fn=None\" \r\n",
        "    Z3 = tf.compat.v1.layers.dense(inputs= F,units=6, activation=None)\r\n",
        "\r\n",
        "\r\n",
        "    return Z3"
      ],
      "execution_count": 160,
      "outputs": []
    },
    {
      "cell_type": "markdown",
      "metadata": {
        "id": "lbT9yM2AnIxp"
      },
      "source": [
        "### 1.4 - Compute cost"
      ]
    },
    {
      "cell_type": "code",
      "metadata": {
        "id": "ycUzYT_re-lR"
      },
      "source": [
        "def compute_cost(Z3, Y):\r\n",
        "    \"\"\"\r\n",
        "    Computes the cost\r\n",
        "    \r\n",
        "    Arguments:\r\n",
        "    Z3 -- output of forward propagation (output of the last LINEAR unit), of shape (number of examples, 6)\r\n",
        "    Y -- \"true\" labels vector placeholder, same shape as Z3\r\n",
        "    \r\n",
        "    Returns:\r\n",
        "    cost - Tensor of the cost function\r\n",
        "    \"\"\"    \r\n",
        "    cost = tf.reduce_mean(tf.nn.softmax_cross_entropy_with_logits(logits=Z3,labels=Y))\r\n",
        "\r\n",
        "    return cost"
      ],
      "execution_count": 161,
      "outputs": []
    },
    {
      "cell_type": "markdown",
      "metadata": {
        "id": "lNNkhMmExU6f"
      },
      "source": [
        "## 1.5 - Model "
      ]
    },
    {
      "cell_type": "code",
      "metadata": {
        "id": "HXDfUEbLxVBX"
      },
      "source": [
        "def model(X_train, Y_train, X_test, Y_test, learning_rate = 0.009,\r\n",
        "          num_epochs = 100, minibatch_size = 64, print_cost = True):\r\n",
        "    \"\"\"\r\n",
        "    Implements a three-layer ConvNet in Tensorflow:\r\n",
        "    CONV2D -> RELU -> MAXPOOL -> CONV2D -> RELU -> MAXPOOL -> FLATTEN -> FULLYCONNECTED\r\n",
        "    \r\n",
        "    Arguments:\r\n",
        "    X_train -- training set, of shape (None, 64, 64, 3)\r\n",
        "    Y_train -- test set, of shape (None, n_y = 6)\r\n",
        "    X_test -- training set, of shape (None, 64, 64, 3)\r\n",
        "    Y_test -- test set, of shape (None, n_y = 6)\r\n",
        "    learning_rate -- learning rate of the optimization\r\n",
        "    num_epochs -- number of epochs of the optimization loop\r\n",
        "    minibatch_size -- size of a minibatch\r\n",
        "    print_cost -- True to print the cost every 100 epochs\r\n",
        "    \r\n",
        "    Returns:\r\n",
        "    train_accuracy -- real number, accuracy on the train set (X_train)\r\n",
        "    test_accuracy -- real number, testing accuracy on the test set (X_test)\r\n",
        "    parameters -- parameters learnt by the model. They can then be used to predict.\r\n",
        "    \"\"\"\r\n",
        "    \r\n",
        "    ops.reset_default_graph()                         # to be able to rerun the model without overwriting tf variables\r\n",
        "    tf.random.set_seed(1)                             # to keep results consistent (tensorflow seed)\r\n",
        "    seed = 3                                          # to keep results consistent (numpy seed)\r\n",
        "    (m, n_H0, n_W0, n_C0) = X_train.shape             \r\n",
        "    n_y = Y_train.shape[1]                            \r\n",
        "    costs = []                                        # To keep track of the cost\r\n",
        "    \r\n",
        "    # Create Placeholders of the correct shape\r\n",
        "    X, Y = create_placeholders(n_H0, n_W0, n_C0, n_y)\r\n",
        "\r\n",
        "    # Initialize parameters\r\n",
        "    parameters = initialize_parameters()\r\n",
        "\r\n",
        "    \r\n",
        "    # Forward propagation: Build the forward propagation in the tensorflow graph\r\n",
        "    Z3 = forward_propagation(X, parameters)\r\n",
        "    \r\n",
        "    # Cost function: Add cost function to tensorflow graph\r\n",
        "    cost = compute_cost(Z3, Y)   \r\n",
        "    # Backpropagation: Define the tensorflow optimizer. Use an AdamOptimizer that minimizes the cost.\r\n",
        "\r\n",
        "    optimizer = tf.compat.v1.train.AdamOptimizer(learning_rate = learning_rate).minimize(cost)\r\n",
        "    \r\n",
        "    # Initialize all the variables globally\r\n",
        "    init = tf.compat.v1.global_variables_initializer()\r\n",
        "     \r\n",
        "    # Start the session to compute the tensorflow graph\r\n",
        "    with tf.compat.v1.Session() as sess:\r\n",
        "        \r\n",
        "        # Run the initialization\r\n",
        "        sess.run(init)\r\n",
        "        \r\n",
        "        # Do the training loop\r\n",
        "        for epoch in range(num_epochs):\r\n",
        "    \r\n",
        "            minibatch_cost = 0.\r\n",
        "            num_minibatches = int(m / minibatch_size) # number of minibatches of size minibatch_size in the train set\r\n",
        "            seed = seed + 1\r\n",
        "            minibatches = random_mini_batches(X_train, Y_train, minibatch_size, seed)\r\n",
        "\r\n",
        "            for minibatch in minibatches:\r\n",
        "\r\n",
        "                # Select a minibatch\r\n",
        "                (minibatch_X, minibatch_Y) = minibatch\r\n",
        "\r\n",
        "    \r\n",
        "                _ , temp_cost = sess.run(fetches=[optimizer,cost],feed_dict={X: minibatch_X,Y: minibatch_Y})\r\n",
        "                \r\n",
        "                minibatch_cost += temp_cost / num_minibatches\r\n",
        "                \r\n",
        "\r\n",
        "            # Print the cost every epoch\r\n",
        "            if print_cost == True and epoch % 5 == 0:\r\n",
        "                print (\"Cost after epoch %i: %f\" % (epoch, minibatch_cost))\r\n",
        "            if print_cost == True and epoch % 1 == 0:\r\n",
        "                costs.append(minibatch_cost)\r\n",
        "        \r\n",
        "        \r\n",
        "        # plot the cost\r\n",
        "        plt.plot(np.squeeze(costs))\r\n",
        "        plt.ylabel('cost')\r\n",
        "        plt.xlabel('iterations (per tens)')\r\n",
        "        plt.title(\"Learning rate =\" + str(learning_rate))\r\n",
        "        plt.show()\r\n",
        "\r\n",
        "        # Calculate the correct predictions\r\n",
        "        predict_op = tf.argmax(Z3, 1)\r\n",
        "        correct_prediction = tf.equal(predict_op, tf.argmax(Y, 1))\r\n",
        "        \r\n",
        "        # Calculate accuracy on the test set\r\n",
        "        accuracy = tf.reduce_mean(tf.cast(correct_prediction, \"float\"))\r\n",
        "        print(accuracy)\r\n",
        "        train_accuracy = accuracy.eval({X: X_train, Y: Y_train})\r\n",
        "        test_accuracy = accuracy.eval({X: X_test, Y: Y_test})\r\n",
        "        print(\"Train Accuracy:\", train_accuracy)\r\n",
        "        print(\"Test Accuracy:\", test_accuracy)\r\n",
        "                \r\n",
        "        return train_accuracy, test_accuracy, parameters"
      ],
      "execution_count": 165,
      "outputs": []
    },
    {
      "cell_type": "code",
      "metadata": {
        "id": "Z2KarsCF7Ly1"
      },
      "source": [
        "tf.compat.v1.disable_eager_execution()"
      ],
      "execution_count": 166,
      "outputs": []
    },
    {
      "cell_type": "code",
      "metadata": {
        "colab": {
          "base_uri": "https://localhost:8080/",
          "height": 774
        },
        "id": "9ArsqUpbxVKT",
        "outputId": "8ea340cd-a696-4d57-c833-7ba8cbe95971"
      },
      "source": [
        "_, _, parameters = model(X_train, Y_train, X_test, Y_test)"
      ],
      "execution_count": 167,
      "outputs": [
        {
          "output_type": "stream",
          "text": [
            "/usr/local/lib/python3.7/dist-packages/tensorflow/python/keras/legacy_tf_layers/core.py:171: UserWarning: `tf.layers.dense` is deprecated and will be removed in a future version. Please use `tf.keras.layers.Dense` instead.\n",
            "  warnings.warn('`tf.layers.dense` is deprecated and '\n",
            "/usr/local/lib/python3.7/dist-packages/tensorflow/python/keras/engine/base_layer_v1.py:1719: UserWarning: `layer.apply` is deprecated and will be removed in a future version. Please use `layer.__call__` method instead.\n",
            "  warnings.warn('`layer.apply` is deprecated and '\n"
          ],
          "name": "stderr"
        },
        {
          "output_type": "stream",
          "text": [
            "Cost after epoch 0: 1.916939\n",
            "Cost after epoch 5: 1.499912\n",
            "Cost after epoch 10: 0.976350\n",
            "Cost after epoch 15: 0.843706\n",
            "Cost after epoch 20: 0.731156\n",
            "Cost after epoch 25: 0.682477\n",
            "Cost after epoch 30: 0.578452\n",
            "Cost after epoch 35: 0.570572\n",
            "Cost after epoch 40: 0.534312\n",
            "Cost after epoch 45: 0.491285\n",
            "Cost after epoch 50: 0.506054\n",
            "Cost after epoch 55: 0.477534\n",
            "Cost after epoch 60: 0.441088\n",
            "Cost after epoch 65: 0.415703\n",
            "Cost after epoch 70: 0.392904\n",
            "Cost after epoch 75: 0.441133\n",
            "Cost after epoch 80: 0.407615\n",
            "Cost after epoch 85: 0.355916\n",
            "Cost after epoch 90: 0.360546\n",
            "Cost after epoch 95: 0.355243\n"
          ],
          "name": "stdout"
        },
        {
          "output_type": "display_data",
          "data": {
            "image/png": "[encoded data removed]",
            "text/plain": [
              "<Figure size 432x288 with 1 Axes>"
            ]
          },
          "metadata": {
            "tags": [],
            "needs_background": "light"
          }
        },
        {
          "output_type": "stream",
          "text": [
            "Tensor(\"Mean_1:0\", shape=(), dtype=float32)\n",
            "Train Accuracy: 0.89074075\n",
            "Test Accuracy: 0.85\n"
          ],
          "name": "stdout"
        }
      ]
    },
    {
      "cell_type": "code",
      "metadata": {
        "id": "CbDFWpHRzhLb"
      },
      "source": [
        ""
      ],
      "execution_count": null,
      "outputs": []
    }
  ]
}